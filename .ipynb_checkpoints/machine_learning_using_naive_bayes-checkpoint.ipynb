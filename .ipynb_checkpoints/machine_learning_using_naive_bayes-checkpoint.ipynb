{
 "cells": [
  {
   "cell_type": "markdown",
   "id": "f661a508",
   "metadata": {},
   "source": [
    "# Naive Bayes Binary Classification"
   ]
  },
  {
   "attachments": {},
   "cell_type": "markdown",
   "id": "f791d137",
   "metadata": {},
   "source": [
    "**Main Points:**\n",
    "\n",
    "* Binary Classification / Naive Bayes / Bernouli\n",
    "* In Naive Bayes, every feature is independent \n",
    "* Corpus (Vocabulary) \n",
    "* Unique Token find \n",
    "\n",
    "**Types of Naive Bayes:**   \n",
    "\n",
    "* Gaussian\n",
    "* Bernouli\n",
    "* Multinomial \n",
    "\n",
    "\n",
    "**Confusion Matrix:**  \n",
    "    \n",
    "* True Negative (human -ve machine -ve) (0,0)\n",
    "* True Positive (machine predicted +ve and human also +ve) (1,1)\n",
    "* False Negative (actual +ve machine -ve) (1,0)-Positive\n",
    "* False Positive (actual -ve machine +ve) (0,1)-Negative\n",
    "\n",
    "**To overcome confusion matrix problems, we apply following metrics:** \n",
    "\n",
    "* precision, recall, f1 score \n",
    "* f1 score is better than precision\n",
    "\n",
    "\n",
    "* Accuracy Formula \n",
    "* Precision Formula (From Predictions %age wise)\n",
    "* Recall Formula (From Actual %age wise)\n",
    "* F1 Score Formula (gives both classes average accuracy). therefore, f1 score is better than precision"
   ]
  },
  {
   "cell_type": "code",
   "execution_count": null,
   "id": "79ded6f4",
   "metadata": {},
   "outputs": [],
   "source": []
  }
 ],
 "metadata": {
  "kernelspec": {
   "display_name": "Python 3 (ipykernel)",
   "language": "python",
   "name": "python3"
  },
  "language_info": {
   "codemirror_mode": {
    "name": "ipython",
    "version": 3
   },
   "file_extension": ".py",
   "mimetype": "text/x-python",
   "name": "python",
   "nbconvert_exporter": "python",
   "pygments_lexer": "ipython3",
   "version": "3.9.13"
  }
 },
 "nbformat": 4,
 "nbformat_minor": 5
}
